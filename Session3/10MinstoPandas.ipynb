{
 "metadata": {
  "name": "",
  "signature": "sha256:52711e80d7a8f9440bcc678af3c569e31464565bd12318f96052b1251e7a6917"
 },
 "nbformat": 3,
 "nbformat_minor": 0,
 "worksheets": [
  {
   "cells": [
    {
     "cell_type": "markdown",
     "metadata": {},
     "source": [
      "Taken From http://pandas.pydata.org/pandas-docs/stable/10min.html#gotchas"
     ]
    },
    {
     "cell_type": "code",
     "collapsed": false,
     "input": [
      "import pandas as pd\n",
      "import numpy as np\n",
      "import matplotlib.pyplot as plt\n",
      "import scipy as sp"
     ],
     "language": "python",
     "metadata": {},
     "outputs": [],
     "prompt_number": 1
    },
    {
     "cell_type": "heading",
     "level": 1,
     "metadata": {},
     "source": [
      "Object Creation"
     ]
    },
    {
     "cell_type": "markdown",
     "metadata": {},
     "source": [
      "Create a data Series"
     ]
    },
    {
     "cell_type": "code",
     "collapsed": false,
     "input": [
      "s = pd.Series([1,3,5, np.nan,6,8])\n",
      "\n",
      "s"
     ],
     "language": "python",
     "metadata": {},
     "outputs": [
      {
       "metadata": {},
       "output_type": "pyout",
       "prompt_number": 2,
       "text": [
        "0     1\n",
        "1     3\n",
        "2     5\n",
        "3   NaN\n",
        "4     6\n",
        "5     8\n",
        "dtype: float64"
       ]
      }
     ],
     "prompt_number": 2
    },
    {
     "cell_type": "markdown",
     "metadata": {},
     "source": [
      "Create a dataframe by passing a numpy array"
     ]
    },
    {
     "cell_type": "code",
     "collapsed": false,
     "input": [
      "dates = pd.date_range('20130101', periods=6)\n",
      "\n",
      "dates"
     ],
     "language": "python",
     "metadata": {},
     "outputs": [
      {
       "metadata": {},
       "output_type": "pyout",
       "prompt_number": 3,
       "text": [
        "<class 'pandas.tseries.index.DatetimeIndex'>\n",
        "[2013-01-01, ..., 2013-01-06]\n",
        "Length: 6, Freq: D, Timezone: None"
       ]
      }
     ],
     "prompt_number": 3
    },
    {
     "cell_type": "code",
     "collapsed": false,
     "input": [
      "df = pd.DataFrame(np.random.randn(6,4), index=dates, columns=list('ABCD'))\n",
      "\n",
      "df"
     ],
     "language": "python",
     "metadata": {},
     "outputs": [
      {
       "html": [
        "<div style=\"max-height:1000px;max-width:1500px;overflow:auto;\">\n",
        "<table border=\"1\" class=\"dataframe\">\n",
        "  <thead>\n",
        "    <tr style=\"text-align: right;\">\n",
        "      <th></th>\n",
        "      <th>A</th>\n",
        "      <th>B</th>\n",
        "      <th>C</th>\n",
        "      <th>D</th>\n",
        "    </tr>\n",
        "  </thead>\n",
        "  <tbody>\n",
        "    <tr>\n",
        "      <th>2013-01-01</th>\n",
        "      <td> 0.328158</td>\n",
        "      <td>-2.077393</td>\n",
        "      <td>-0.667328</td>\n",
        "      <td>-0.599432</td>\n",
        "    </tr>\n",
        "    <tr>\n",
        "      <th>2013-01-02</th>\n",
        "      <td> 0.674561</td>\n",
        "      <td> 0.205818</td>\n",
        "      <td>-0.139552</td>\n",
        "      <td> 1.458323</td>\n",
        "    </tr>\n",
        "    <tr>\n",
        "      <th>2013-01-03</th>\n",
        "      <td> 0.887733</td>\n",
        "      <td>-0.787643</td>\n",
        "      <td> 0.514658</td>\n",
        "      <td>-0.822886</td>\n",
        "    </tr>\n",
        "    <tr>\n",
        "      <th>2013-01-04</th>\n",
        "      <td>-0.458259</td>\n",
        "      <td>-0.350467</td>\n",
        "      <td> 0.028886</td>\n",
        "      <td> 1.425817</td>\n",
        "    </tr>\n",
        "    <tr>\n",
        "      <th>2013-01-05</th>\n",
        "      <td>-0.512265</td>\n",
        "      <td> 0.115284</td>\n",
        "      <td> 1.542190</td>\n",
        "      <td> 1.607168</td>\n",
        "    </tr>\n",
        "    <tr>\n",
        "      <th>2013-01-06</th>\n",
        "      <td> 1.421385</td>\n",
        "      <td> 1.077863</td>\n",
        "      <td> 0.487018</td>\n",
        "      <td>-0.147623</td>\n",
        "    </tr>\n",
        "  </tbody>\n",
        "</table>\n",
        "</div>"
       ],
       "metadata": {},
       "output_type": "pyout",
       "prompt_number": 6,
       "text": [
        "                   A         B         C         D\n",
        "2013-01-01  0.328158 -2.077393 -0.667328 -0.599432\n",
        "2013-01-02  0.674561  0.205818 -0.139552  1.458323\n",
        "2013-01-03  0.887733 -0.787643  0.514658 -0.822886\n",
        "2013-01-04 -0.458259 -0.350467  0.028886  1.425817\n",
        "2013-01-05 -0.512265  0.115284  1.542190  1.607168\n",
        "2013-01-06  1.421385  1.077863  0.487018 -0.147623"
       ]
      }
     ],
     "prompt_number": 6
    },
    {
     "cell_type": "code",
     "collapsed": false,
     "input": [
      "df2 = pd.DataFrame({ 'A' : 1.,\n",
      "                     'B' : pd.Timestamp('20130102'),\n",
      "                     'C' : pd.Series(1,index=list(range(4)),dtype='float32'),\n",
      "                     'D' : np.array([3] * 4,dtype='int32'),\n",
      "                     'E' : pd.Categorical([\"test\",\"train\",\"test\",\"train\"]),\n",
      "                     'F' : 'foo' })\n",
      "\n",
      "df2"
     ],
     "language": "python",
     "metadata": {},
     "outputs": [
      {
       "html": [
        "<div style=\"max-height:1000px;max-width:1500px;overflow:auto;\">\n",
        "<table border=\"1\" class=\"dataframe\">\n",
        "  <thead>\n",
        "    <tr style=\"text-align: right;\">\n",
        "      <th></th>\n",
        "      <th>A</th>\n",
        "      <th>B</th>\n",
        "      <th>C</th>\n",
        "      <th>D</th>\n",
        "      <th>E</th>\n",
        "      <th>F</th>\n",
        "    </tr>\n",
        "  </thead>\n",
        "  <tbody>\n",
        "    <tr>\n",
        "      <th>0</th>\n",
        "      <td> 1</td>\n",
        "      <td>2013-01-02</td>\n",
        "      <td> 1</td>\n",
        "      <td> 3</td>\n",
        "      <td>  test</td>\n",
        "      <td> foo</td>\n",
        "    </tr>\n",
        "    <tr>\n",
        "      <th>1</th>\n",
        "      <td> 1</td>\n",
        "      <td>2013-01-02</td>\n",
        "      <td> 1</td>\n",
        "      <td> 3</td>\n",
        "      <td> train</td>\n",
        "      <td> foo</td>\n",
        "    </tr>\n",
        "    <tr>\n",
        "      <th>2</th>\n",
        "      <td> 1</td>\n",
        "      <td>2013-01-02</td>\n",
        "      <td> 1</td>\n",
        "      <td> 3</td>\n",
        "      <td>  test</td>\n",
        "      <td> foo</td>\n",
        "    </tr>\n",
        "    <tr>\n",
        "      <th>3</th>\n",
        "      <td> 1</td>\n",
        "      <td>2013-01-02</td>\n",
        "      <td> 1</td>\n",
        "      <td> 3</td>\n",
        "      <td> train</td>\n",
        "      <td> foo</td>\n",
        "    </tr>\n",
        "  </tbody>\n",
        "</table>\n",
        "</div>"
       ],
       "metadata": {},
       "output_type": "pyout",
       "prompt_number": 7,
       "text": [
        "   A          B  C  D      E    F\n",
        "0  1 2013-01-02  1  3   test  foo\n",
        "1  1 2013-01-02  1  3  train  foo\n",
        "2  1 2013-01-02  1  3   test  foo\n",
        "3  1 2013-01-02  1  3  train  foo"
       ]
      }
     ],
     "prompt_number": 7
    },
    {
     "cell_type": "code",
     "collapsed": false,
     "input": [
      "df2.dtypes"
     ],
     "language": "python",
     "metadata": {},
     "outputs": [
      {
       "metadata": {},
       "output_type": "pyout",
       "prompt_number": 9,
       "text": [
        "A           float64\n",
        "B    datetime64[ns]\n",
        "C           float32\n",
        "D             int32\n",
        "E          category\n",
        "F            object\n",
        "dtype: object"
       ]
      }
     ],
     "prompt_number": 9
    },
    {
     "cell_type": "code",
     "collapsed": false,
     "input": [
      "df2.A"
     ],
     "language": "python",
     "metadata": {},
     "outputs": [
      {
       "metadata": {},
       "output_type": "pyout",
       "prompt_number": 11,
       "text": [
        "0    1\n",
        "1    1\n",
        "2    1\n",
        "3    1\n",
        "Name: A, dtype: float64"
       ]
      }
     ],
     "prompt_number": 11
    },
    {
     "cell_type": "markdown",
     "metadata": {},
     "source": [
      "You can use tab after df2. to autocomplete and see what options you have"
     ]
    },
    {
     "cell_type": "heading",
     "level": 1,
     "metadata": {},
     "source": [
      "Viewing Data"
     ]
    },
    {
     "cell_type": "code",
     "collapsed": false,
     "input": [
      "df.head()"
     ],
     "language": "python",
     "metadata": {},
     "outputs": [
      {
       "html": [
        "<div style=\"max-height:1000px;max-width:1500px;overflow:auto;\">\n",
        "<table border=\"1\" class=\"dataframe\">\n",
        "  <thead>\n",
        "    <tr style=\"text-align: right;\">\n",
        "      <th></th>\n",
        "      <th>A</th>\n",
        "      <th>B</th>\n",
        "      <th>C</th>\n",
        "      <th>D</th>\n",
        "    </tr>\n",
        "  </thead>\n",
        "  <tbody>\n",
        "    <tr>\n",
        "      <th>2013-01-01</th>\n",
        "      <td> 0.328158</td>\n",
        "      <td>-2.077393</td>\n",
        "      <td>-0.667328</td>\n",
        "      <td>-0.599432</td>\n",
        "    </tr>\n",
        "    <tr>\n",
        "      <th>2013-01-02</th>\n",
        "      <td> 0.674561</td>\n",
        "      <td> 0.205818</td>\n",
        "      <td>-0.139552</td>\n",
        "      <td> 1.458323</td>\n",
        "    </tr>\n",
        "    <tr>\n",
        "      <th>2013-01-03</th>\n",
        "      <td> 0.887733</td>\n",
        "      <td>-0.787643</td>\n",
        "      <td> 0.514658</td>\n",
        "      <td>-0.822886</td>\n",
        "    </tr>\n",
        "    <tr>\n",
        "      <th>2013-01-04</th>\n",
        "      <td>-0.458259</td>\n",
        "      <td>-0.350467</td>\n",
        "      <td> 0.028886</td>\n",
        "      <td> 1.425817</td>\n",
        "    </tr>\n",
        "    <tr>\n",
        "      <th>2013-01-05</th>\n",
        "      <td>-0.512265</td>\n",
        "      <td> 0.115284</td>\n",
        "      <td> 1.542190</td>\n",
        "      <td> 1.607168</td>\n",
        "    </tr>\n",
        "  </tbody>\n",
        "</table>\n",
        "</div>"
       ],
       "metadata": {},
       "output_type": "pyout",
       "prompt_number": 16,
       "text": [
        "                   A         B         C         D\n",
        "2013-01-01  0.328158 -2.077393 -0.667328 -0.599432\n",
        "2013-01-02  0.674561  0.205818 -0.139552  1.458323\n",
        "2013-01-03  0.887733 -0.787643  0.514658 -0.822886\n",
        "2013-01-04 -0.458259 -0.350467  0.028886  1.425817\n",
        "2013-01-05 -0.512265  0.115284  1.542190  1.607168"
       ]
      }
     ],
     "prompt_number": 16
    },
    {
     "cell_type": "code",
     "collapsed": false,
     "input": [
      "df.tail(3)"
     ],
     "language": "python",
     "metadata": {},
     "outputs": [
      {
       "html": [
        "<div style=\"max-height:1000px;max-width:1500px;overflow:auto;\">\n",
        "<table border=\"1\" class=\"dataframe\">\n",
        "  <thead>\n",
        "    <tr style=\"text-align: right;\">\n",
        "      <th></th>\n",
        "      <th>A</th>\n",
        "      <th>B</th>\n",
        "      <th>C</th>\n",
        "      <th>D</th>\n",
        "    </tr>\n",
        "  </thead>\n",
        "  <tbody>\n",
        "    <tr>\n",
        "      <th>2013-01-04</th>\n",
        "      <td>-0.458259</td>\n",
        "      <td>-0.350467</td>\n",
        "      <td> 0.028886</td>\n",
        "      <td> 1.425817</td>\n",
        "    </tr>\n",
        "    <tr>\n",
        "      <th>2013-01-05</th>\n",
        "      <td>-0.512265</td>\n",
        "      <td> 0.115284</td>\n",
        "      <td> 1.542190</td>\n",
        "      <td> 1.607168</td>\n",
        "    </tr>\n",
        "    <tr>\n",
        "      <th>2013-01-06</th>\n",
        "      <td> 1.421385</td>\n",
        "      <td> 1.077863</td>\n",
        "      <td> 0.487018</td>\n",
        "      <td>-0.147623</td>\n",
        "    </tr>\n",
        "  </tbody>\n",
        "</table>\n",
        "</div>"
       ],
       "metadata": {},
       "output_type": "pyout",
       "prompt_number": 17,
       "text": [
        "                   A         B         C         D\n",
        "2013-01-04 -0.458259 -0.350467  0.028886  1.425817\n",
        "2013-01-05 -0.512265  0.115284  1.542190  1.607168\n",
        "2013-01-06  1.421385  1.077863  0.487018 -0.147623"
       ]
      }
     ],
     "prompt_number": 17
    },
    {
     "cell_type": "code",
     "collapsed": false,
     "input": [
      "df.index"
     ],
     "language": "python",
     "metadata": {},
     "outputs": [
      {
       "metadata": {},
       "output_type": "pyout",
       "prompt_number": 19,
       "text": [
        "<class 'pandas.tseries.index.DatetimeIndex'>\n",
        "[2013-01-01, ..., 2013-01-06]\n",
        "Length: 6, Freq: D, Timezone: None"
       ]
      }
     ],
     "prompt_number": 19
    },
    {
     "cell_type": "code",
     "collapsed": false,
     "input": [
      "df.columns"
     ],
     "language": "python",
     "metadata": {},
     "outputs": [
      {
       "metadata": {},
       "output_type": "pyout",
       "prompt_number": 22,
       "text": [
        "Index([u'A', u'B', u'C', u'D'], dtype='object')"
       ]
      }
     ],
     "prompt_number": 22
    },
    {
     "cell_type": "code",
     "collapsed": false,
     "input": [
      "df.values"
     ],
     "language": "python",
     "metadata": {},
     "outputs": [
      {
       "metadata": {},
       "output_type": "pyout",
       "prompt_number": 23,
       "text": [
        "array([[ 0.32815801, -2.07739299, -0.66732808, -0.59943188],\n",
        "       [ 0.6745614 ,  0.20581817, -0.1395516 ,  1.45832308],\n",
        "       [ 0.88773274, -0.78764303,  0.51465786, -0.82288584],\n",
        "       [-0.45825861, -0.35046731,  0.02888551,  1.42581688],\n",
        "       [-0.51226467,  0.1152836 ,  1.54219037,  1.60716838],\n",
        "       [ 1.42138501,  1.07786266,  0.4870183 , -0.14762318]])"
       ]
      }
     ],
     "prompt_number": 23
    },
    {
     "cell_type": "code",
     "collapsed": false,
     "input": [
      "df.describe()  #quick summary statistics of data"
     ],
     "language": "python",
     "metadata": {},
     "outputs": [
      {
       "html": [
        "<div style=\"max-height:1000px;max-width:1500px;overflow:auto;\">\n",
        "<table border=\"1\" class=\"dataframe\">\n",
        "  <thead>\n",
        "    <tr style=\"text-align: right;\">\n",
        "      <th></th>\n",
        "      <th>A</th>\n",
        "      <th>B</th>\n",
        "      <th>C</th>\n",
        "      <th>D</th>\n",
        "    </tr>\n",
        "  </thead>\n",
        "  <tbody>\n",
        "    <tr>\n",
        "      <th>count</th>\n",
        "      <td> 6.000000</td>\n",
        "      <td> 6.000000</td>\n",
        "      <td> 6.000000</td>\n",
        "      <td> 6.000000</td>\n",
        "    </tr>\n",
        "    <tr>\n",
        "      <th>mean</th>\n",
        "      <td> 0.390219</td>\n",
        "      <td>-0.302756</td>\n",
        "      <td> 0.294312</td>\n",
        "      <td> 0.486895</td>\n",
        "    </tr>\n",
        "    <tr>\n",
        "      <th>std</th>\n",
        "      <td> 0.765495</td>\n",
        "      <td> 1.070163</td>\n",
        "      <td> 0.751842</td>\n",
        "      <td> 1.129469</td>\n",
        "    </tr>\n",
        "    <tr>\n",
        "      <th>min</th>\n",
        "      <td>-0.512265</td>\n",
        "      <td>-2.077393</td>\n",
        "      <td>-0.667328</td>\n",
        "      <td>-0.822886</td>\n",
        "    </tr>\n",
        "    <tr>\n",
        "      <th>25%</th>\n",
        "      <td>-0.261654</td>\n",
        "      <td>-0.678349</td>\n",
        "      <td>-0.097442</td>\n",
        "      <td>-0.486480</td>\n",
        "    </tr>\n",
        "    <tr>\n",
        "      <th>50%</th>\n",
        "      <td> 0.501360</td>\n",
        "      <td>-0.117592</td>\n",
        "      <td> 0.257952</td>\n",
        "      <td> 0.639097</td>\n",
        "    </tr>\n",
        "    <tr>\n",
        "      <th>75%</th>\n",
        "      <td> 0.834440</td>\n",
        "      <td> 0.183185</td>\n",
        "      <td> 0.507748</td>\n",
        "      <td> 1.450197</td>\n",
        "    </tr>\n",
        "    <tr>\n",
        "      <th>max</th>\n",
        "      <td> 1.421385</td>\n",
        "      <td> 1.077863</td>\n",
        "      <td> 1.542190</td>\n",
        "      <td> 1.607168</td>\n",
        "    </tr>\n",
        "  </tbody>\n",
        "</table>\n",
        "</div>"
       ],
       "metadata": {},
       "output_type": "pyout",
       "prompt_number": 26,
       "text": [
        "              A         B         C         D\n",
        "count  6.000000  6.000000  6.000000  6.000000\n",
        "mean   0.390219 -0.302756  0.294312  0.486895\n",
        "std    0.765495  1.070163  0.751842  1.129469\n",
        "min   -0.512265 -2.077393 -0.667328 -0.822886\n",
        "25%   -0.261654 -0.678349 -0.097442 -0.486480\n",
        "50%    0.501360 -0.117592  0.257952  0.639097\n",
        "75%    0.834440  0.183185  0.507748  1.450197\n",
        "max    1.421385  1.077863  1.542190  1.607168"
       ]
      }
     ],
     "prompt_number": 26
    },
    {
     "cell_type": "code",
     "collapsed": false,
     "input": [
      "df.T  #transpose the data"
     ],
     "language": "python",
     "metadata": {},
     "outputs": [
      {
       "html": [
        "<div style=\"max-height:1000px;max-width:1500px;overflow:auto;\">\n",
        "<table border=\"1\" class=\"dataframe\">\n",
        "  <thead>\n",
        "    <tr style=\"text-align: right;\">\n",
        "      <th></th>\n",
        "      <th>2013-01-01 00:00:00</th>\n",
        "      <th>2013-01-02 00:00:00</th>\n",
        "      <th>2013-01-03 00:00:00</th>\n",
        "      <th>2013-01-04 00:00:00</th>\n",
        "      <th>2013-01-05 00:00:00</th>\n",
        "      <th>2013-01-06 00:00:00</th>\n",
        "    </tr>\n",
        "  </thead>\n",
        "  <tbody>\n",
        "    <tr>\n",
        "      <th>A</th>\n",
        "      <td> 0.328158</td>\n",
        "      <td> 0.674561</td>\n",
        "      <td> 0.887733</td>\n",
        "      <td>-0.458259</td>\n",
        "      <td>-0.512265</td>\n",
        "      <td> 1.421385</td>\n",
        "    </tr>\n",
        "    <tr>\n",
        "      <th>B</th>\n",
        "      <td>-2.077393</td>\n",
        "      <td> 0.205818</td>\n",
        "      <td>-0.787643</td>\n",
        "      <td>-0.350467</td>\n",
        "      <td> 0.115284</td>\n",
        "      <td> 1.077863</td>\n",
        "    </tr>\n",
        "    <tr>\n",
        "      <th>C</th>\n",
        "      <td>-0.667328</td>\n",
        "      <td>-0.139552</td>\n",
        "      <td> 0.514658</td>\n",
        "      <td> 0.028886</td>\n",
        "      <td> 1.542190</td>\n",
        "      <td> 0.487018</td>\n",
        "    </tr>\n",
        "    <tr>\n",
        "      <th>D</th>\n",
        "      <td>-0.599432</td>\n",
        "      <td> 1.458323</td>\n",
        "      <td>-0.822886</td>\n",
        "      <td> 1.425817</td>\n",
        "      <td> 1.607168</td>\n",
        "      <td>-0.147623</td>\n",
        "    </tr>\n",
        "  </tbody>\n",
        "</table>\n",
        "</div>"
       ],
       "metadata": {},
       "output_type": "pyout",
       "prompt_number": 27,
       "text": [
        "   2013-01-01  2013-01-02  2013-01-03  2013-01-04  2013-01-05  2013-01-06\n",
        "A    0.328158    0.674561    0.887733   -0.458259   -0.512265    1.421385\n",
        "B   -2.077393    0.205818   -0.787643   -0.350467    0.115284    1.077863\n",
        "C   -0.667328   -0.139552    0.514658    0.028886    1.542190    0.487018\n",
        "D   -0.599432    1.458323   -0.822886    1.425817    1.607168   -0.147623"
       ]
      }
     ],
     "prompt_number": 27
    },
    {
     "cell_type": "code",
     "collapsed": false,
     "input": [
      "df.sort_index(axis=1, ascending=False)"
     ],
     "language": "python",
     "metadata": {},
     "outputs": [
      {
       "html": [
        "<div style=\"max-height:1000px;max-width:1500px;overflow:auto;\">\n",
        "<table border=\"1\" class=\"dataframe\">\n",
        "  <thead>\n",
        "    <tr style=\"text-align: right;\">\n",
        "      <th></th>\n",
        "      <th>D</th>\n",
        "      <th>C</th>\n",
        "      <th>B</th>\n",
        "      <th>A</th>\n",
        "    </tr>\n",
        "  </thead>\n",
        "  <tbody>\n",
        "    <tr>\n",
        "      <th>2013-01-01</th>\n",
        "      <td>-0.599432</td>\n",
        "      <td>-0.667328</td>\n",
        "      <td>-2.077393</td>\n",
        "      <td> 0.328158</td>\n",
        "    </tr>\n",
        "    <tr>\n",
        "      <th>2013-01-02</th>\n",
        "      <td> 1.458323</td>\n",
        "      <td>-0.139552</td>\n",
        "      <td> 0.205818</td>\n",
        "      <td> 0.674561</td>\n",
        "    </tr>\n",
        "    <tr>\n",
        "      <th>2013-01-03</th>\n",
        "      <td>-0.822886</td>\n",
        "      <td> 0.514658</td>\n",
        "      <td>-0.787643</td>\n",
        "      <td> 0.887733</td>\n",
        "    </tr>\n",
        "    <tr>\n",
        "      <th>2013-01-04</th>\n",
        "      <td> 1.425817</td>\n",
        "      <td> 0.028886</td>\n",
        "      <td>-0.350467</td>\n",
        "      <td>-0.458259</td>\n",
        "    </tr>\n",
        "    <tr>\n",
        "      <th>2013-01-05</th>\n",
        "      <td> 1.607168</td>\n",
        "      <td> 1.542190</td>\n",
        "      <td> 0.115284</td>\n",
        "      <td>-0.512265</td>\n",
        "    </tr>\n",
        "    <tr>\n",
        "      <th>2013-01-06</th>\n",
        "      <td>-0.147623</td>\n",
        "      <td> 0.487018</td>\n",
        "      <td> 1.077863</td>\n",
        "      <td> 1.421385</td>\n",
        "    </tr>\n",
        "  </tbody>\n",
        "</table>\n",
        "</div>"
       ],
       "metadata": {},
       "output_type": "pyout",
       "prompt_number": 29,
       "text": [
        "                   D         C         B         A\n",
        "2013-01-01 -0.599432 -0.667328 -2.077393  0.328158\n",
        "2013-01-02  1.458323 -0.139552  0.205818  0.674561\n",
        "2013-01-03 -0.822886  0.514658 -0.787643  0.887733\n",
        "2013-01-04  1.425817  0.028886 -0.350467 -0.458259\n",
        "2013-01-05  1.607168  1.542190  0.115284 -0.512265\n",
        "2013-01-06 -0.147623  0.487018  1.077863  1.421385"
       ]
      }
     ],
     "prompt_number": 29
    },
    {
     "cell_type": "code",
     "collapsed": false,
     "input": [
      "df.sort_index(axis=0, ascending=False)"
     ],
     "language": "python",
     "metadata": {},
     "outputs": [
      {
       "html": [
        "<div style=\"max-height:1000px;max-width:1500px;overflow:auto;\">\n",
        "<table border=\"1\" class=\"dataframe\">\n",
        "  <thead>\n",
        "    <tr style=\"text-align: right;\">\n",
        "      <th></th>\n",
        "      <th>A</th>\n",
        "      <th>B</th>\n",
        "      <th>C</th>\n",
        "      <th>D</th>\n",
        "    </tr>\n",
        "  </thead>\n",
        "  <tbody>\n",
        "    <tr>\n",
        "      <th>2013-01-06</th>\n",
        "      <td> 1.421385</td>\n",
        "      <td> 1.077863</td>\n",
        "      <td> 0.487018</td>\n",
        "      <td>-0.147623</td>\n",
        "    </tr>\n",
        "    <tr>\n",
        "      <th>2013-01-05</th>\n",
        "      <td>-0.512265</td>\n",
        "      <td> 0.115284</td>\n",
        "      <td> 1.542190</td>\n",
        "      <td> 1.607168</td>\n",
        "    </tr>\n",
        "    <tr>\n",
        "      <th>2013-01-04</th>\n",
        "      <td>-0.458259</td>\n",
        "      <td>-0.350467</td>\n",
        "      <td> 0.028886</td>\n",
        "      <td> 1.425817</td>\n",
        "    </tr>\n",
        "    <tr>\n",
        "      <th>2013-01-03</th>\n",
        "      <td> 0.887733</td>\n",
        "      <td>-0.787643</td>\n",
        "      <td> 0.514658</td>\n",
        "      <td>-0.822886</td>\n",
        "    </tr>\n",
        "    <tr>\n",
        "      <th>2013-01-02</th>\n",
        "      <td> 0.674561</td>\n",
        "      <td> 0.205818</td>\n",
        "      <td>-0.139552</td>\n",
        "      <td> 1.458323</td>\n",
        "    </tr>\n",
        "    <tr>\n",
        "      <th>2013-01-01</th>\n",
        "      <td> 0.328158</td>\n",
        "      <td>-2.077393</td>\n",
        "      <td>-0.667328</td>\n",
        "      <td>-0.599432</td>\n",
        "    </tr>\n",
        "  </tbody>\n",
        "</table>\n",
        "</div>"
       ],
       "metadata": {},
       "output_type": "pyout",
       "prompt_number": 34,
       "text": [
        "                   A         B         C         D\n",
        "2013-01-06  1.421385  1.077863  0.487018 -0.147623\n",
        "2013-01-05 -0.512265  0.115284  1.542190  1.607168\n",
        "2013-01-04 -0.458259 -0.350467  0.028886  1.425817\n",
        "2013-01-03  0.887733 -0.787643  0.514658 -0.822886\n",
        "2013-01-02  0.674561  0.205818 -0.139552  1.458323\n",
        "2013-01-01  0.328158 -2.077393 -0.667328 -0.599432"
       ]
      }
     ],
     "prompt_number": 34
    },
    {
     "cell_type": "code",
     "collapsed": false,
     "input": [
      "df.sort(columns=\"B\")"
     ],
     "language": "python",
     "metadata": {},
     "outputs": [
      {
       "html": [
        "<div style=\"max-height:1000px;max-width:1500px;overflow:auto;\">\n",
        "<table border=\"1\" class=\"dataframe\">\n",
        "  <thead>\n",
        "    <tr style=\"text-align: right;\">\n",
        "      <th></th>\n",
        "      <th>A</th>\n",
        "      <th>B</th>\n",
        "      <th>C</th>\n",
        "      <th>D</th>\n",
        "    </tr>\n",
        "  </thead>\n",
        "  <tbody>\n",
        "    <tr>\n",
        "      <th>2013-01-01</th>\n",
        "      <td> 0.328158</td>\n",
        "      <td>-2.077393</td>\n",
        "      <td>-0.667328</td>\n",
        "      <td>-0.599432</td>\n",
        "    </tr>\n",
        "    <tr>\n",
        "      <th>2013-01-03</th>\n",
        "      <td> 0.887733</td>\n",
        "      <td>-0.787643</td>\n",
        "      <td> 0.514658</td>\n",
        "      <td>-0.822886</td>\n",
        "    </tr>\n",
        "    <tr>\n",
        "      <th>2013-01-04</th>\n",
        "      <td>-0.458259</td>\n",
        "      <td>-0.350467</td>\n",
        "      <td> 0.028886</td>\n",
        "      <td> 1.425817</td>\n",
        "    </tr>\n",
        "    <tr>\n",
        "      <th>2013-01-05</th>\n",
        "      <td>-0.512265</td>\n",
        "      <td> 0.115284</td>\n",
        "      <td> 1.542190</td>\n",
        "      <td> 1.607168</td>\n",
        "    </tr>\n",
        "    <tr>\n",
        "      <th>2013-01-02</th>\n",
        "      <td> 0.674561</td>\n",
        "      <td> 0.205818</td>\n",
        "      <td>-0.139552</td>\n",
        "      <td> 1.458323</td>\n",
        "    </tr>\n",
        "    <tr>\n",
        "      <th>2013-01-06</th>\n",
        "      <td> 1.421385</td>\n",
        "      <td> 1.077863</td>\n",
        "      <td> 0.487018</td>\n",
        "      <td>-0.147623</td>\n",
        "    </tr>\n",
        "  </tbody>\n",
        "</table>\n",
        "</div>"
       ],
       "metadata": {},
       "output_type": "pyout",
       "prompt_number": 35,
       "text": [
        "                   A         B         C         D\n",
        "2013-01-01  0.328158 -2.077393 -0.667328 -0.599432\n",
        "2013-01-03  0.887733 -0.787643  0.514658 -0.822886\n",
        "2013-01-04 -0.458259 -0.350467  0.028886  1.425817\n",
        "2013-01-05 -0.512265  0.115284  1.542190  1.607168\n",
        "2013-01-02  0.674561  0.205818 -0.139552  1.458323\n",
        "2013-01-06  1.421385  1.077863  0.487018 -0.147623"
       ]
      }
     ],
     "prompt_number": 35
    },
    {
     "cell_type": "heading",
     "level": 1,
     "metadata": {},
     "source": [
      "Selection"
     ]
    },
    {
     "cell_type": "markdown",
     "metadata": {},
     "source": [
      "Note While standard Python / Numpy expressions for selecting and setting are intuitive and come in handy for interactive work, for production code, we recommend the optimized pandas data access methods, .at, .iat, .loc, .iloc and .ix."
     ]
    },
    {
     "cell_type": "code",
     "collapsed": false,
     "input": [
      "df['A']"
     ],
     "language": "python",
     "metadata": {},
     "outputs": [
      {
       "metadata": {},
       "output_type": "pyout",
       "prompt_number": 36,
       "text": [
        "2013-01-01    0.328158\n",
        "2013-01-02    0.674561\n",
        "2013-01-03    0.887733\n",
        "2013-01-04   -0.458259\n",
        "2013-01-05   -0.512265\n",
        "2013-01-06    1.421385\n",
        "Freq: D, Name: A, dtype: float64"
       ]
      }
     ],
     "prompt_number": 36
    },
    {
     "cell_type": "code",
     "collapsed": false,
     "input": [
      "df.A"
     ],
     "language": "python",
     "metadata": {},
     "outputs": [
      {
       "metadata": {},
       "output_type": "pyout",
       "prompt_number": 40,
       "text": [
        "2013-01-01    0.328158\n",
        "2013-01-02    0.674561\n",
        "2013-01-03    0.887733\n",
        "2013-01-04   -0.458259\n",
        "2013-01-05   -0.512265\n",
        "2013-01-06    1.421385\n",
        "Freq: D, Name: A, dtype: float64"
       ]
      }
     ],
     "prompt_number": 40
    },
    {
     "cell_type": "code",
     "collapsed": false,
     "input": [
      "df[0:3]"
     ],
     "language": "python",
     "metadata": {},
     "outputs": [
      {
       "html": [
        "<div style=\"max-height:1000px;max-width:1500px;overflow:auto;\">\n",
        "<table border=\"1\" class=\"dataframe\">\n",
        "  <thead>\n",
        "    <tr style=\"text-align: right;\">\n",
        "      <th></th>\n",
        "      <th>A</th>\n",
        "      <th>B</th>\n",
        "      <th>C</th>\n",
        "      <th>D</th>\n",
        "    </tr>\n",
        "  </thead>\n",
        "  <tbody>\n",
        "    <tr>\n",
        "      <th>2013-01-01</th>\n",
        "      <td> 0.328158</td>\n",
        "      <td>-2.077393</td>\n",
        "      <td>-0.667328</td>\n",
        "      <td>-0.599432</td>\n",
        "    </tr>\n",
        "    <tr>\n",
        "      <th>2013-01-02</th>\n",
        "      <td> 0.674561</td>\n",
        "      <td> 0.205818</td>\n",
        "      <td>-0.139552</td>\n",
        "      <td> 1.458323</td>\n",
        "    </tr>\n",
        "    <tr>\n",
        "      <th>2013-01-03</th>\n",
        "      <td> 0.887733</td>\n",
        "      <td>-0.787643</td>\n",
        "      <td> 0.514658</td>\n",
        "      <td>-0.822886</td>\n",
        "    </tr>\n",
        "  </tbody>\n",
        "</table>\n",
        "</div>"
       ],
       "metadata": {},
       "output_type": "pyout",
       "prompt_number": 37,
       "text": [
        "                   A         B         C         D\n",
        "2013-01-01  0.328158 -2.077393 -0.667328 -0.599432\n",
        "2013-01-02  0.674561  0.205818 -0.139552  1.458323\n",
        "2013-01-03  0.887733 -0.787643  0.514658 -0.822886"
       ]
      }
     ],
     "prompt_number": 37
    },
    {
     "cell_type": "code",
     "collapsed": false,
     "input": [
      "df['20130102':'20130104']"
     ],
     "language": "python",
     "metadata": {},
     "outputs": [
      {
       "html": [
        "<div style=\"max-height:1000px;max-width:1500px;overflow:auto;\">\n",
        "<table border=\"1\" class=\"dataframe\">\n",
        "  <thead>\n",
        "    <tr style=\"text-align: right;\">\n",
        "      <th></th>\n",
        "      <th>A</th>\n",
        "      <th>B</th>\n",
        "      <th>C</th>\n",
        "      <th>D</th>\n",
        "    </tr>\n",
        "  </thead>\n",
        "  <tbody>\n",
        "    <tr>\n",
        "      <th>2013-01-02</th>\n",
        "      <td> 0.674561</td>\n",
        "      <td> 0.205818</td>\n",
        "      <td>-0.139552</td>\n",
        "      <td> 1.458323</td>\n",
        "    </tr>\n",
        "    <tr>\n",
        "      <th>2013-01-03</th>\n",
        "      <td> 0.887733</td>\n",
        "      <td>-0.787643</td>\n",
        "      <td> 0.514658</td>\n",
        "      <td>-0.822886</td>\n",
        "    </tr>\n",
        "    <tr>\n",
        "      <th>2013-01-04</th>\n",
        "      <td>-0.458259</td>\n",
        "      <td>-0.350467</td>\n",
        "      <td> 0.028886</td>\n",
        "      <td> 1.425817</td>\n",
        "    </tr>\n",
        "  </tbody>\n",
        "</table>\n",
        "</div>"
       ],
       "metadata": {},
       "output_type": "pyout",
       "prompt_number": 38,
       "text": [
        "                   A         B         C         D\n",
        "2013-01-02  0.674561  0.205818 -0.139552  1.458323\n",
        "2013-01-03  0.887733 -0.787643  0.514658 -0.822886\n",
        "2013-01-04 -0.458259 -0.350467  0.028886  1.425817"
       ]
      }
     ],
     "prompt_number": 38
    },
    {
     "cell_type": "code",
     "collapsed": false,
     "input": [
      "df[['A','C']]"
     ],
     "language": "python",
     "metadata": {},
     "outputs": [
      {
       "html": [
        "<div style=\"max-height:1000px;max-width:1500px;overflow:auto;\">\n",
        "<table border=\"1\" class=\"dataframe\">\n",
        "  <thead>\n",
        "    <tr style=\"text-align: right;\">\n",
        "      <th></th>\n",
        "      <th>A</th>\n",
        "      <th>C</th>\n",
        "    </tr>\n",
        "  </thead>\n",
        "  <tbody>\n",
        "    <tr>\n",
        "      <th>2013-01-01</th>\n",
        "      <td> 0.328158</td>\n",
        "      <td>-0.667328</td>\n",
        "    </tr>\n",
        "    <tr>\n",
        "      <th>2013-01-02</th>\n",
        "      <td> 0.674561</td>\n",
        "      <td>-0.139552</td>\n",
        "    </tr>\n",
        "    <tr>\n",
        "      <th>2013-01-03</th>\n",
        "      <td> 0.887733</td>\n",
        "      <td> 0.514658</td>\n",
        "    </tr>\n",
        "    <tr>\n",
        "      <th>2013-01-04</th>\n",
        "      <td>-0.458259</td>\n",
        "      <td> 0.028886</td>\n",
        "    </tr>\n",
        "    <tr>\n",
        "      <th>2013-01-05</th>\n",
        "      <td>-0.512265</td>\n",
        "      <td> 1.542190</td>\n",
        "    </tr>\n",
        "    <tr>\n",
        "      <th>2013-01-06</th>\n",
        "      <td> 1.421385</td>\n",
        "      <td> 0.487018</td>\n",
        "    </tr>\n",
        "  </tbody>\n",
        "</table>\n",
        "</div>"
       ],
       "metadata": {},
       "output_type": "pyout",
       "prompt_number": 49,
       "text": [
        "                   A         C\n",
        "2013-01-01  0.328158 -0.667328\n",
        "2013-01-02  0.674561 -0.139552\n",
        "2013-01-03  0.887733  0.514658\n",
        "2013-01-04 -0.458259  0.028886\n",
        "2013-01-05 -0.512265  1.542190\n",
        "2013-01-06  1.421385  0.487018"
       ]
      }
     ],
     "prompt_number": 49
    },
    {
     "cell_type": "code",
     "collapsed": false,
     "input": [],
     "language": "python",
     "metadata": {},
     "outputs": []
    }
   ],
   "metadata": {}
  }
 ]
}